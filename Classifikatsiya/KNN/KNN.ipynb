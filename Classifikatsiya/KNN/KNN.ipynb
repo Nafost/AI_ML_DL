{
 "cells": [
  {
   "cell_type": "code",
   "execution_count": 1,
   "id": "6d800d46",
   "metadata": {},
   "outputs": [
    {
     "name": "stdout",
     "output_type": "stream",
     "text": [
      "Modelning aniqligi: 50.00%\n",
      "Yangi odamning klassi: Sportchi\n"
     ]
    }
   ],
   "source": [
    "import numpy as np\n",
    "from sklearn.model_selection import train_test_split\n",
    "from sklearn.neighbors import KNeighborsClassifier\n",
    "from sklearn.metrics import accuracy_score\n",
    "\n",
    "data = np.array([\n",
    "    [180, 80, 25, 1],  \n",
    "    [175, 75, 30, 1],  \n",
    "    [160, 60, 22, 0], \n",
    "    [165, 65, 28, 0],  \n",
    "    [190, 85, 26, 1],  \n",
    "    [155, 50, 20, 0],  \n",
    "    [185, 90, 29, 1],  \n",
    "    [170, 70, 24, 0],  \n",
    "    [175, 78, 27, 1],  \n",
    "    [165, 55, 21, 0]   \n",
    "])  #1-sportchi 0-oddiy odam\n",
    "\n",
    "\n",
    "X = data[:, :-1]  \n",
    "y = data[:, -1]   \n",
    "\n",
    "X_train, X_test, y_train, y_test = train_test_split(X, y, test_size=0.2, random_state=42)\n",
    "\n",
    "knn = KNeighborsClassifier(n_neighbors=3)\n",
    "\n",
    "knn.fit(X_train, y_train)\n",
    "\n",
    "y_pred = knn.predict(X_test)\n",
    "\n",
    "accuracy = accuracy_score(y_test, y_pred)\n",
    "print(f\"Modelning aniqligi: {accuracy * 100:.2f}%\")\n",
    "\n",
    "new_person = [[180, 75, 23]]  \n",
    "prediction = knn.predict(new_person)\n",
    "print(f\"Yangi odamning klassi: {'Sportchi' if prediction[0] == 1 else 'Oddiy odam'}\")"
   ]
  },
  {
   "cell_type": "code",
   "execution_count": null,
   "id": "c579d085",
   "metadata": {},
   "outputs": [],
   "source": []
  }
 ],
 "metadata": {
  "kernelspec": {
   "display_name": "Python 3",
   "language": "python",
   "name": "python3"
  },
  "language_info": {
   "codemirror_mode": {
    "name": "ipython",
    "version": 3
   },
   "file_extension": ".py",
   "mimetype": "text/x-python",
   "name": "python",
   "nbconvert_exporter": "python",
   "pygments_lexer": "ipython3",
   "version": "3.10.11"
  }
 },
 "nbformat": 4,
 "nbformat_minor": 5
}
